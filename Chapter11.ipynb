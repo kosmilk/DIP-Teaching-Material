{
 "cells": [
  {
   "cell_type": "code",
   "execution_count": 1,
   "metadata": {
    "colab": {
     "base_uri": "https://localhost:8080/"
    },
    "id": "4Tb5lPFxzix6",
    "outputId": "e88e7e58-67f1-4a86-8dea-7b1ff6fedfa8"
   },
   "outputs": [
    {
     "name": "stdout",
     "output_type": "stream",
     "text": [
      "Downloading data from https://storage.googleapis.com/tensorflow/tf-keras-datasets/mnist.npz\n",
      "11493376/11490434 [==============================] - 0s 0us/step\n",
      "Epoch 1/3\n",
      "938/938 [==============================] - 44s 46ms/step - loss: 0.3887 - accuracy: 0.8846\n",
      "Epoch 2/3\n",
      "938/938 [==============================] - 44s 47ms/step - loss: 0.0530 - accuracy: 0.9843\n",
      "Epoch 3/3\n",
      "938/938 [==============================] - 44s 47ms/step - loss: 0.0336 - accuracy: 0.9897\n",
      "Test loss: 0.037039149552583694\n",
      "Test accuracy: 0.9883000254631042\n"
     ]
    }
   ],
   "source": [
    "import numpy as np\n",
    "import keras\n",
    "from keras.datasets import mnist\n",
    "from keras.models import Sequential\n",
    "from keras.layers import Dense, Flatten\n",
    "from keras.layers import Conv2D, MaxPooling2D\n",
    "from keras.utils import to_categorical\n",
    "import matplotlib.pyplot as plt\n",
    "\n",
    "# Size of image is 28x28x1 channel.\n",
    "input_shape = (28, 28, 1)\n",
    "batch_size = 64\n",
    "# number of possible outcomes [0-9]\n",
    "nclasses = 10\n",
    "epochs = 3\n",
    "\n",
    "# Fetch the train and test data.\n",
    "(x_train, y_train), (x_test, y_test) = mnist.load_data()\n",
    "\n",
    "# Normalize the image so that all pixel values\n",
    "# are between -0.5 and +0.5.\n",
    "x_train = (x_train / 255) - 0.5\n",
    "x_test = (x_test / 255) - 0.5\n",
    "\n",
    "# Reshape the train and test images to size 28x28x1.\n",
    "x_train = x_train.reshape((x_train.shape[0], *input_shape))\n",
    "x_test = x_test.reshape((x_test.shape[0], *input_shape))\n",
    "\n",
    "# Define the CNN model with 2 convolution layer and\n",
    "# 2 max pooling layer followed by a neural network\n",
    "# with 1 hidden layer of size 128 nodes.\n",
    "model = Sequential()\n",
    "model.add(Conv2D(32, kernel_size=(3, 3),\n",
    "                 activation='relu',\n",
    "                 input_shape=input_shape))\n",
    "model.add(MaxPooling2D(pool_size=(2, 2)))\n",
    "model.add(Conv2D(64, (3, 3), activation='relu'))\n",
    "model.add(MaxPooling2D(pool_size=(2, 2)))\n",
    "model.add(Flatten())\n",
    "model.add(Dense(128, activation='relu'))\n",
    "model.add(Dense(nclasses, activation='softmax'))\n",
    "\n",
    "# Compile the model using Adam optimizer and use\n",
    "# the cross entropy loss.\n",
    "model.compile(optimizer='adam',\n",
    "              loss='categorical_crossentropy',\n",
    "              metrics=['accuracy'])\n",
    "\n",
    "# Train the model.\n",
    "model.fit(x_train, to_categorical(y_train), epochs=epochs,\n",
    "          batch_size=batch_size)\n",
    "\n",
    "# Evaluate the model.\n",
    "score = model.evaluate(x_test, to_categorical(y_test), verbose=0)\n",
    "print('Test loss:', score[0])\n",
    "print('Test accuracy:', score[1])\n",
    "#plt.imshow(model)\n",
    "plt.show()"
   ]
  }
 ],
 "metadata": {
  "colab": {
   "name": "Chapter11.ipynb",
   "provenance": []
  },
  "kernelspec": {
   "display_name": "Python 3",
   "language": "python",
   "name": "python3"
  },
  "language_info": {
   "codemirror_mode": {
    "name": "ipython",
    "version": 3
   },
   "file_extension": ".py",
   "mimetype": "text/x-python",
   "name": "python",
   "nbconvert_exporter": "python",
   "pygments_lexer": "ipython3",
   "version": "3.6.10"
  }
 },
 "nbformat": 4,
 "nbformat_minor": 1
}
